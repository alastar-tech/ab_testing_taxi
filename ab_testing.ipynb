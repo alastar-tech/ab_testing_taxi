{
 "cells": [
  {
   "cell_type": "code",
   "execution_count": 1,
   "id": "ec3ccfb1",
   "metadata": {},
   "outputs": [],
   "source": [
    "import pandas as pd\n",
    "import seaborn as sns\n",
    "from scipy.stats import ttest_ind\n",
    "import seaborn as sns\n",
    "import matplotlib.pyplot as plt"
   ]
  },
  {
   "cell_type": "code",
   "execution_count": 2,
   "id": "52fc6644",
   "metadata": {},
   "outputs": [
    {
     "name": "stdout",
     "output_type": "stream",
     "text": [
      "<class 'pandas.core.frame.DataFrame'>\n",
      "RangeIndex: 101500 entries, 0 to 101499\n",
      "Data columns (total 11 columns):\n",
      " #   Column             Non-Null Count   Dtype         \n",
      "---  ------             --------------   -----         \n",
      " 0   user_id            101500 non-null  int64         \n",
      " 1   date               101500 non-null  datetime64[ns]\n",
      " 2   app_opened         101500 non-null  int64         \n",
      " 3   group              101500 non-null  object        \n",
      " 4   price_seen         101500 non-null  int64         \n",
      " 5   order_made         101500 non-null  int64         \n",
      " 6   surge              92358 non-null   object        \n",
      " 7   os                 101500 non-null  object        \n",
      " 8   user_cancelled     70157 non-null   float64       \n",
      " 9   city_center_order  70157 non-null   float64       \n",
      " 10  groups             101500 non-null  object        \n",
      "dtypes: datetime64[ns](1), float64(2), int64(4), object(4)\n",
      "memory usage: 8.5+ MB\n"
     ]
    }
   ],
   "source": [
    "data = pd.read_csv('post_abtest_data.csv', parse_dates=['date'])\n",
    "data.info()"
   ]
  },
  {
   "cell_type": "code",
   "execution_count": 3,
   "id": "5957809b",
   "metadata": {},
   "outputs": [
    {
     "data": {
      "text/plain": [
       "867689    1\n",
       "382672    1\n",
       "139455    1\n",
       "416988    1\n",
       "682337    1\n",
       "         ..\n",
       "340213    1\n",
       "352605    1\n",
       "216082    1\n",
       "777242    1\n",
       "811817    1\n",
       "Name: user_id, Length: 24224, dtype: int64"
      ]
     },
     "execution_count": 3,
     "metadata": {},
     "output_type": "execute_result"
    }
   ],
   "source": [
    "#проверим вхождение одного user_id и в Test и в Control\n",
    "df_check = data[['user_id', 'group']]\n",
    "df_check_no_dupl = df_check.drop_duplicates()\n",
    "df_check_no_dupl.user_id.value_counts().sort_values(ascending=False)\n",
    "\n",
    "#одновременных вхождений в тест и контрол нет"
   ]
  },
  {
   "cell_type": "markdown",
   "id": "fa6766dc",
   "metadata": {},
   "source": [
    "### Гипотеза: \n",
    "Если мы понизим коэффициент \"surge\" в период повышенного спроса, то конверсия price-to-order в этот период возрастет."
   ]
  },
  {
   "cell_type": "code",
   "execution_count": 4,
   "id": "bcd6c042",
   "metadata": {},
   "outputs": [],
   "source": [
    "#фильтруем данные по признаку \"surge\" и \"показу цены\"\n",
    "data_surge = data.query(\"surge == 'surge' and price_seen == 1\")\n",
    "\n",
    "#удалим лишние столбцы\n",
    "data_surge = data_surge.drop(columns={'app_opened','os', 'user_cancelled', 'city_center_order', 'groups'})"
   ]
  },
  {
   "cell_type": "code",
   "execution_count": 5,
   "id": "9277fca9",
   "metadata": {},
   "outputs": [
    {
     "data": {
      "text/html": [
       "<div>\n",
       "<style scoped>\n",
       "    .dataframe tbody tr th:only-of-type {\n",
       "        vertical-align: middle;\n",
       "    }\n",
       "\n",
       "    .dataframe tbody tr th {\n",
       "        vertical-align: top;\n",
       "    }\n",
       "\n",
       "    .dataframe thead th {\n",
       "        text-align: right;\n",
       "    }\n",
       "</style>\n",
       "<table border=\"1\" class=\"dataframe\">\n",
       "  <thead>\n",
       "    <tr style=\"text-align: right;\">\n",
       "      <th></th>\n",
       "      <th>user_id</th>\n",
       "      <th>date</th>\n",
       "      <th>group</th>\n",
       "      <th>price_seen</th>\n",
       "      <th>order_made</th>\n",
       "      <th>surge</th>\n",
       "      <th>day_number</th>\n",
       "    </tr>\n",
       "  </thead>\n",
       "  <tbody>\n",
       "    <tr>\n",
       "      <th>1</th>\n",
       "      <td>867689</td>\n",
       "      <td>2020-05-29</td>\n",
       "      <td>Control</td>\n",
       "      <td>1</td>\n",
       "      <td>0</td>\n",
       "      <td>surge</td>\n",
       "      <td>5</td>\n",
       "    </tr>\n",
       "    <tr>\n",
       "      <th>2</th>\n",
       "      <td>867689</td>\n",
       "      <td>2020-05-25</td>\n",
       "      <td>Control</td>\n",
       "      <td>1</td>\n",
       "      <td>1</td>\n",
       "      <td>surge</td>\n",
       "      <td>1</td>\n",
       "    </tr>\n",
       "    <tr>\n",
       "      <th>3</th>\n",
       "      <td>752172</td>\n",
       "      <td>2020-05-29</td>\n",
       "      <td>Control</td>\n",
       "      <td>1</td>\n",
       "      <td>1</td>\n",
       "      <td>surge</td>\n",
       "      <td>5</td>\n",
       "    </tr>\n",
       "    <tr>\n",
       "      <th>5</th>\n",
       "      <td>486559</td>\n",
       "      <td>2020-05-25</td>\n",
       "      <td>Control</td>\n",
       "      <td>1</td>\n",
       "      <td>0</td>\n",
       "      <td>surge</td>\n",
       "      <td>1</td>\n",
       "    </tr>\n",
       "    <tr>\n",
       "      <th>8</th>\n",
       "      <td>486559</td>\n",
       "      <td>2020-05-28</td>\n",
       "      <td>Control</td>\n",
       "      <td>1</td>\n",
       "      <td>0</td>\n",
       "      <td>surge</td>\n",
       "      <td>4</td>\n",
       "    </tr>\n",
       "  </tbody>\n",
       "</table>\n",
       "</div>"
      ],
      "text/plain": [
       "   user_id       date    group  price_seen  order_made  surge  day_number\n",
       "1   867689 2020-05-29  Control           1           0  surge           5\n",
       "2   867689 2020-05-25  Control           1           1  surge           1\n",
       "3   752172 2020-05-29  Control           1           1  surge           5\n",
       "5   486559 2020-05-25  Control           1           0  surge           1\n",
       "8   486559 2020-05-28  Control           1           0  surge           4"
      ]
     },
     "execution_count": 5,
     "metadata": {},
     "output_type": "execute_result"
    }
   ],
   "source": [
    "#разбиваем выборку на 7 частей по дате\n",
    "labels=['1', '2','3', '4', '5', '6', '7']\n",
    "\n",
    "data_surge['day_number'] = pd.cut(data_surge['date'], bins=7 , labels=labels)\n",
    "data_surge['day_number'] = data_surge['day_number'].astype('int') #преобразовали столбец категорий в int-тип\n",
    "data_surge.head()"
   ]
  },
  {
   "cell_type": "code",
   "execution_count": 6,
   "id": "aae59cdc",
   "metadata": {},
   "outputs": [],
   "source": [
    "#функция проведения t-теста по дням\n",
    "def test_by_day(df, day_num, alpha=0.05):\n",
    "  \n",
    "    global p_value_1 #чтобы вывести p_value в список для дальнейшего построения графика\n",
    "    day_1 = df.query(\"day_number == @day_num\")\n",
    "\n",
    "  #находим конверсию по каждому пользователю (получим user_id без повторений)\n",
    "    day_1_by_user = day_1.groupby('user_id', as_index=False) \\\n",
    "                              .agg({'price_seen':'sum', \\\n",
    "                                    'order_made':'sum', \\\n",
    "                                    'group'     :'max'})\n",
    "    day_1_by_user['price_to_order_conv'] = round(day_1_by_user.order_made / day_1_by_user.price_seen, 2) *100\n",
    "\n",
    "  #разделяем на 2 группы\n",
    "    group_0 = day_1_by_user.query(\"group == 'Control'\")\n",
    "    group_1 = day_1_by_user.query(\"group == 'Test'\")\n",
    "\n",
    "\n",
    "  #выводим хорактеристики выборок\n",
    "    print('кол-во наблюдений в group_control =', len(group_0))\n",
    "    print('кол-во наблюдений в group_test =', len(group_1))\n",
    "    print('общее кол-во наблюдений =', len(group_1) + len(group_0)) #проверка что никто не потерялся\n",
    "    print('средняя поюзерная конверсия (контрольная группа) =', round(group_0.price_to_order_conv.mean(),2))\n",
    "    print('средняя поюзерная конверсия (тестовая группа) =', round(group_1.price_to_order_conv.mean(),2))\n",
    "\n",
    "    #проводим t-test\n",
    "    t = ttest_ind(group_0['price_to_order_conv'], group_1['price_to_order_conv'])\n",
    "    p_value_1 = t.pvalue\n",
    "    print('p-value =', round(p_value_1, 3))\n",
    "    print()\n",
    "  \n",
    "    if t.pvalue > alpha:\n",
    "        print(f'p-value {round(t.pvalue, 2)} > alpha {round(alpha, 2)}\\nПринимаем H_0 - средние выборок РАВНЫ.\\nЗначимых изменений нет.')\n",
    "    else:\n",
    "        print(f'p-value {round(t.pvalue, 2)} < alpha {round(alpha, 2)}\\nОтклоняем H_0 - средние выборок НЕ РАВНЫ\\nНаблюдается значимое изменение.')\n",
    "\n",
    "    print('________________________________________________________________________')\n",
    " "
   ]
  },
  {
   "cell_type": "code",
   "execution_count": 7,
   "id": "f35dd157",
   "metadata": {},
   "outputs": [
    {
     "name": "stdout",
     "output_type": "stream",
     "text": [
      "--- t-test 1го дня ---\n",
      "кол-во наблюдений в group_control = 1867\n",
      "кол-во наблюдений в group_test = 1916\n",
      "общее кол-во наблюдений = 3783\n",
      "средняя поюзерная конверсия (контрольная группа) = 58.48\n",
      "средняя поюзерная конверсия (тестовая группа) = 63.6\n",
      "p-value = 0.001\n",
      "\n",
      "p-value 0.0 < alpha 0.05\n",
      "Отклоняем H_0 - средние выборок НЕ РАВНЫ\n",
      "Наблюдается значимое изменение.\n",
      "________________________________________________________________________\n",
      "\n",
      "--- t-test 2го дня ---\n",
      "кол-во наблюдений в group_control = 1876\n",
      "кол-во наблюдений в group_test = 1871\n",
      "общее кол-во наблюдений = 3747\n",
      "средняя поюзерная конверсия (контрольная группа) = 62.0\n",
      "средняя поюзерная конверсия (тестовая группа) = 61.48\n",
      "p-value = 0.739\n",
      "\n",
      "p-value 0.74 > alpha 0.05\n",
      "Принимаем H_0 - средние выборок РАВНЫ.\n",
      "Значимых изменений нет.\n",
      "________________________________________________________________________\n",
      "\n",
      "--- t-test 3го дня ---\n",
      "кол-во наблюдений в group_control = 1898\n",
      "кол-во наблюдений в group_test = 1909\n",
      "общее кол-во наблюдений = 3807\n",
      "средняя поюзерная конверсия (контрольная группа) = 59.74\n",
      "средняя поюзерная конверсия (тестовая группа) = 61.89\n",
      "p-value = 0.165\n",
      "\n",
      "p-value 0.17 > alpha 0.05\n",
      "Принимаем H_0 - средние выборок РАВНЫ.\n",
      "Значимых изменений нет.\n",
      "________________________________________________________________________\n",
      "\n",
      "--- t-test 4го дня ---\n",
      "кол-во наблюдений в group_control = 1910\n",
      "кол-во наблюдений в group_test = 1821\n",
      "общее кол-во наблюдений = 3731\n",
      "средняя поюзерная конверсия (контрольная группа) = 60.22\n",
      "средняя поюзерная конверсия (тестовая группа) = 62.23\n",
      "p-value = 0.199\n",
      "\n",
      "p-value 0.2 > alpha 0.05\n",
      "Принимаем H_0 - средние выборок РАВНЫ.\n",
      "Значимых изменений нет.\n",
      "________________________________________________________________________\n",
      "\n",
      "--- t-test 5го дня ---\n",
      "кол-во наблюдений в group_control = 1879\n",
      "кол-во наблюдений в group_test = 1889\n",
      "общее кол-во наблюдений = 3768\n",
      "средняя поюзерная конверсия (контрольная группа) = 59.58\n",
      "средняя поюзерная конверсия (тестовая группа) = 60.61\n",
      "p-value = 0.508\n",
      "\n",
      "p-value 0.51 > alpha 0.05\n",
      "Принимаем H_0 - средние выборок РАВНЫ.\n",
      "Значимых изменений нет.\n",
      "________________________________________________________________________\n",
      "\n",
      "--- t-test 6го дня ---\n",
      "кол-во наблюдений в group_control = 1918\n",
      "кол-во наблюдений в group_test = 1868\n",
      "общее кол-во наблюдений = 3786\n",
      "средняя поюзерная конверсия (контрольная группа) = 59.96\n",
      "средняя поюзерная конверсия (тестовая группа) = 62.91\n",
      "p-value = 0.056\n",
      "\n",
      "p-value 0.06 > alpha 0.05\n",
      "Принимаем H_0 - средние выборок РАВНЫ.\n",
      "Значимых изменений нет.\n",
      "________________________________________________________________________\n",
      "\n",
      "--- t-test 7го дня ---\n",
      "кол-во наблюдений в group_control = 1921\n",
      "кол-во наблюдений в group_test = 1932\n",
      "общее кол-во наблюдений = 3853\n",
      "средняя поюзерная конверсия (контрольная группа) = 58.88\n",
      "средняя поюзерная конверсия (тестовая группа) = 59.87\n",
      "p-value = 0.523\n",
      "\n",
      "p-value 0.52 > alpha 0.05\n",
      "Принимаем H_0 - средние выборок РАВНЫ.\n",
      "Значимых изменений нет.\n",
      "________________________________________________________________________\n",
      "\n"
     ]
    }
   ],
   "source": [
    "p_values = []\n",
    "for i in range(1,8):\n",
    "    print(f'--- t-test {i}го дня ---')\n",
    "    test_by_day(data_surge, i)\n",
    "    p_values.append(p_value_1)\n",
    "    print()"
   ]
  },
  {
   "cell_type": "code",
   "execution_count": 8,
   "id": "9afc44ec",
   "metadata": {},
   "outputs": [
    {
     "data": {
      "text/plain": [
       "[0.0009735385910968797,\n",
       " 0.7386004107192503,\n",
       " 0.1653384106031448,\n",
       " 0.1985099342129266,\n",
       " 0.5077296638551498,\n",
       " 0.05591127112443488,\n",
       " 0.5232772310240463]"
      ]
     },
     "execution_count": 8,
     "metadata": {},
     "output_type": "execute_result"
    }
   ],
   "source": [
    "#выведем значения p-value\n",
    "p_values"
   ]
  },
  {
   "cell_type": "code",
   "execution_count": 9,
   "id": "bb2386ea",
   "metadata": {},
   "outputs": [
    {
     "data": {
      "text/plain": [
       "[<matplotlib.lines.Line2D at 0x2042d7f0880>]"
      ]
     },
     "execution_count": 9,
     "metadata": {},
     "output_type": "execute_result"
    },
    {
     "data": {
      "image/png": "[encoded data removed]",
      "text/plain": [
       "<Figure size 432x288 with 1 Axes>"
      ]
     },
     "metadata": {
      "needs_background": "light"
     },
     "output_type": "display_data"
    }
   ],
   "source": [
    "#график ежедневного p_value\n",
    "plt.plot(p_values)"
   ]
  },
  {
   "cell_type": "markdown",
   "id": "9027e331",
   "metadata": {},
   "source": [
    "### Вывод\n",
    "Судя по графику дневных значений p-value, только в первый день мы наблюдаем результат внедрения новой опции в приложение (в этот день p-value < alpha, значит имеются различия между группами, а при проведении аб-теста мы этого и ждем). В остальных же днях различий между группами не наблюдается. Значит, новая опция накого воздействия на конверсию не оказывает. Раскатывать на всех пользователей её не будем.\n",
    "\n",
    "Изначальная конверсия в заказ в период сурджа была = 74%, после ввнедрения опции в приложение, ожидаем новую конверсию +10пп. Выбрали alpha=0.05, beta=0.2 и получили размер каждой выборки (тест и контрол) по 322 пользователя.\n",
    "\n",
    "При проведении аб-теста каждый день в каждой из выборок было больше 1800 наблюдений. Это значит, что мощности теста хватает для определения изменений там, где они есть. А значит тест отработал корректно и показал, что модернизация не изменила поведение пользователей."
   ]
  },
  {
   "cell_type": "markdown",
   "id": "dba057e5",
   "metadata": {},
   "source": [
    " "
   ]
  },
  {
   "cell_type": "markdown",
   "id": "2ccc7b91",
   "metadata": {},
   "source": [
    "### Проведем A/B-тест через накопительное значение p-value"
   ]
  },
  {
   "cell_type": "code",
   "execution_count": 12,
   "id": "dc24d1c3",
   "metadata": {},
   "outputs": [],
   "source": [
    "#функция проведения t-теста\n",
    "def test_by_day_cumul(df, alpha=0.05):\n",
    "  \n",
    "    global p_value_1 #чтобы вывести p_value в список для дальнейшего построения графика\n",
    "    day_1 = df\n",
    "\n",
    "  #находим конверсию по каждому пользователю (получим user_id без повторений)\n",
    "    day_1_by_user = day_1.groupby('user_id', as_index=False) \\\n",
    "                              .agg({'price_seen':'sum', \\\n",
    "                                    'order_made':'sum', \\\n",
    "                                    'group'     :'max'})\n",
    "    day_1_by_user['price_to_order_conv'] = round(day_1_by_user.order_made / day_1_by_user.price_seen, 2) *100\n",
    "\n",
    "  #разделяем на 2 группы\n",
    "    group_0 = day_1_by_user.query(\"group == 'Control'\")\n",
    "    group_1 = day_1_by_user.query(\"group == 'Test'\")\n",
    "\n",
    "\n",
    "  #выводим хорактеристики выборок\n",
    "    print('кол-во наблюдений в group_control =', len(group_0))\n",
    "    print('кол-во наблюдений в group_test =', len(group_1))\n",
    "    print('общее кол-во наблюдений =', len(group_1) + len(group_0)) #проверка что никто не потерялся\n",
    "    print('средняя поюзерная конверсия (контрольная группа) =', round(group_0.price_to_order_conv.mean(),2))\n",
    "    print('средняя поюзерная конверсия (тестовая группа) =', round(group_1.price_to_order_conv.mean(),2))\n",
    "\n",
    "  #проводим t-test\n",
    "    t = ttest_ind(group_0['price_to_order_conv'], group_1['price_to_order_conv'])\n",
    "    p_value_1 = t.pvalue\n",
    "    print('p-value =', round(p_value_1, 3))\n",
    "    print()\n",
    "  \n",
    "    if t.pvalue > alpha:\n",
    "        print(f'p-value {round(t.pvalue, 2)} > alpha {round(alpha, 2)}\\nПринимаем H_0 - средние выборок РАВНЫ.\\nЗначимых изменений нет.')\n",
    "    else:\n",
    "        print(f'p-value {round(t.pvalue, 2)} < alpha {round(alpha, 2)}\\nОтклоняем H_0 - средние выборок НЕ РАВНЫ\\nНаблюдается значимое изменение.')\n",
    "\n",
    "    print('________________________________________________________________________')"
   ]
  },
  {
   "cell_type": "code",
   "execution_count": 13,
   "id": "1ab8d189",
   "metadata": {},
   "outputs": [],
   "source": [
    "#Распределим данные накопительным итогом\n",
    "\n",
    "d1 = data_surge.query(\"day_number in [1]\")\n",
    "d2 = data_surge.query(\"day_number in [1,2]\")\n",
    "d3 = data_surge.query(\"day_number in [1,2,3]\")\n",
    "d4 = data_surge.query(\"day_number in [1,2,3,4]\")\n",
    "d5 = data_surge.query(\"day_number in [1,2,3,4,5]\")\n",
    "d6 = data_surge.query(\"day_number in [1,2,3,4,5,6]\")\n",
    "d7 = data_surge.query(\"day_number in [1,2,3,4,5,6,7]\")\n",
    "\n",
    "days = [d1, d2, d3, d4, d5, d6, d7]"
   ]
  },
  {
   "cell_type": "code",
   "execution_count": 15,
   "id": "578663a9",
   "metadata": {},
   "outputs": [
    {
     "name": "stdout",
     "output_type": "stream",
     "text": [
      "--- t-test 1-го дня ---\n",
      "кол-во наблюдений в group_control = 1867\n",
      "кол-во наблюдений в group_test = 1916\n",
      "общее кол-во наблюдений = 3783\n",
      "средняя поюзерная конверсия (контрольная группа) = 58.48\n",
      "средняя поюзерная конверсия (тестовая группа) = 63.6\n",
      "p-value = 0.001\n",
      "\n",
      "p-value 0.0 < alpha 0.05\n",
      "Отклоняем H_0 - средние выборок НЕ РАВНЫ\n",
      "Наблюдается значимое изменение.\n",
      "________________________________________________________________________\n",
      "\n",
      "--- t-test 2-го дня ---\n",
      "кол-во наблюдений в group_control = 3438\n",
      "кол-во наблюдений в group_test = 3467\n",
      "общее кол-во наблюдений = 6905\n",
      "средняя поюзерная конверсия (контрольная группа) = 60.23\n",
      "средняя поюзерная конверсия (тестовая группа) = 62.66\n",
      "p-value = 0.031\n",
      "\n",
      "p-value 0.03 < alpha 0.05\n",
      "Отклоняем H_0 - средние выборок НЕ РАВНЫ\n",
      "Наблюдается значимое изменение.\n",
      "________________________________________________________________________\n",
      "\n",
      "--- t-test 3-го дня ---\n",
      "кол-во наблюдений в group_control = 4819\n",
      "кол-во наблюдений в group_test = 4829\n",
      "общее кол-во наблюдений = 9648\n",
      "средняя поюзерная конверсия (контрольная группа) = 59.95\n",
      "средняя поюзерная конверсия (тестовая группа) = 62.28\n",
      "p-value = 0.012\n",
      "\n",
      "p-value 0.01 < alpha 0.05\n",
      "Отклоняем H_0 - средние выборок НЕ РАВНЫ\n",
      "Наблюдается значимое изменение.\n",
      "________________________________________________________________________\n",
      "\n",
      "--- t-test 4-го дня ---\n",
      "кол-во наблюдений в group_control = 5970\n",
      "кол-во наблюдений в group_test = 5943\n",
      "общее кол-во наблюдений = 11913\n",
      "средняя поюзерная конверсия (контрольная группа) = 59.83\n",
      "средняя поюзерная конверсия (тестовая группа) = 62.34\n",
      "p-value = 0.002\n",
      "\n",
      "p-value 0.0 < alpha 0.05\n",
      "Отклоняем H_0 - средние выборок НЕ РАВНЫ\n",
      "Наблюдается значимое изменение.\n",
      "________________________________________________________________________\n",
      "\n",
      "--- t-test 5-го дня ---\n",
      "кол-во наблюдений в group_control = 6956\n",
      "кол-во наблюдений в group_test = 6936\n",
      "общее кол-во наблюдений = 13892\n",
      "средняя поюзерная конверсия (контрольная группа) = 59.67\n",
      "средняя поюзерная конверсия (тестовая группа) = 62.17\n",
      "p-value = 0.001\n",
      "\n",
      "p-value 0.0 < alpha 0.05\n",
      "Отклоняем H_0 - средние выборок НЕ РАВНЫ\n",
      "Наблюдается значимое изменение.\n",
      "________________________________________________________________________\n",
      "\n",
      "--- t-test 6-го дня ---\n",
      "кол-во наблюдений в group_control = 7817\n",
      "кол-во наблюдений в group_test = 7745\n",
      "общее кол-во наблюдений = 15562\n",
      "средняя поюзерная конверсия (контрольная группа) = 59.53\n",
      "средняя поюзерная конверсия (тестовая группа) = 62.25\n",
      "p-value = 0.0\n",
      "\n",
      "p-value 0.0 < alpha 0.05\n",
      "Отклоняем H_0 - средние выборок НЕ РАВНЫ\n",
      "Наблюдается значимое изменение.\n",
      "________________________________________________________________________\n",
      "\n",
      "--- t-test 7-го дня ---\n",
      "кол-во наблюдений в group_control = 8505\n",
      "кол-во наблюдений в group_test = 8445\n",
      "общее кол-во наблюдений = 16950\n",
      "средняя поюзерная конверсия (контрольная группа) = 59.55\n",
      "средняя поюзерная конверсия (тестовая группа) = 61.83\n",
      "p-value = 0.0\n",
      "\n",
      "p-value 0.0 < alpha 0.05\n",
      "Отклоняем H_0 - средние выборок НЕ РАВНЫ\n",
      "Наблюдается значимое изменение.\n",
      "________________________________________________________________________\n",
      "\n"
     ]
    }
   ],
   "source": [
    "p_values_2 = []\n",
    "n = 1\n",
    "for i in days:\n",
    "  \n",
    "    print(f'--- t-test {n}-го дня ---')\n",
    "    test_by_day_cumul(i)\n",
    "    p_values_2.append(p_value_1)\n",
    "    n += 1\n",
    "    print()"
   ]
  },
  {
   "cell_type": "code",
   "execution_count": 16,
   "id": "f30107b0",
   "metadata": {},
   "outputs": [
    {
     "data": {
      "text/plain": [
       "[<matplotlib.lines.Line2D at 0x2042d9109a0>]"
      ]
     },
     "execution_count": 16,
     "metadata": {},
     "output_type": "execute_result"
    },
    {
     "data": {
      "image/png": "[encoded data removed]",
      "text/plain": [
       "<Figure size 432x288 with 1 Axes>"
      ]
     },
     "metadata": {
      "needs_background": "light"
     },
     "output_type": "display_data"
    }
   ],
   "source": [
    "#выведем накопительные значения p-value\n",
    "p_values_2\n",
    "plt.plot(p_values_2)"
   ]
  },
  {
   "cell_type": "markdown",
   "id": "f36fb6c5",
   "metadata": {},
   "source": [
    "### Вывод\n",
    "По куммулятивному p-value, каждый день наблюдается значение меньше alpha, что говорит о различии групп и мы делаем вывод, что новая опция действительно оказывает влияние на конверсию в покупку.\n",
    "\n",
    "Ниже приведены значения конверсий. Если учитывать что аб-тест прошел успешно и в итоге получили значимую разницу, то уменьшение коэфф сурджа даже ухудшило конверсию на 2пп. И в этом случае мы тоже не будем раскатывать эту фичу на всех пользователей."
   ]
  },
  {
   "cell_type": "code",
   "execution_count": null,
   "id": "8f8a88b7",
   "metadata": {},
   "outputs": [],
   "source": []
  },
  {
   "cell_type": "code",
   "execution_count": 17,
   "id": "aa927793",
   "metadata": {},
   "outputs": [
    {
     "name": "stdout",
     "output_type": "stream",
     "text": [
      "d1_test_conv_mean =  63.6\n",
      "d1_control_conv_mean =  58.48\n"
     ]
    }
   ],
   "source": [
    "#средняя поюзерная конверсия в заказ за первый день\n",
    "d1 = d1.groupby('user_id', as_index=False) \\\n",
    "                              .agg({'price_seen':'sum', \\\n",
    "                                    'order_made':'sum', \\\n",
    "                                    'group'     :'max'})\n",
    "                              \n",
    "d1['price_to_order_conv'] = round(d1.order_made / d1.price_seen, 2) *100\n",
    "\n",
    "d1_t = d1.query(\"group == 'Test'\")\n",
    "d1_c = d1.query(\"group == 'Control'\")\n",
    "\n",
    "print('d1_test_conv_mean = ', round(d1_t.price_to_order_conv.mean(),2))\n",
    "print('d1_control_conv_mean = ', round(d1_c.price_to_order_conv.mean(),2))"
   ]
  },
  {
   "cell_type": "code",
   "execution_count": 18,
   "id": "b9124048",
   "metadata": {},
   "outputs": [
    {
     "name": "stdout",
     "output_type": "stream",
     "text": [
      "d7_test_conv_mean =  61.83\n",
      "d7_control_conv_mean =  59.55\n"
     ]
    }
   ],
   "source": [
    "#средняя поюзерная конверсия в заказ за седьмой день\n",
    "d7 = d7.groupby('user_id', as_index=False) \\\n",
    "                              .agg({'price_seen':'sum', \\\n",
    "                                    'order_made':'sum', \\\n",
    "                                    'group'     :'max'})\n",
    "                              \n",
    "d7['price_to_order_conv'] = round(d7.order_made / d7.price_seen, 2) *100\n",
    "\n",
    "d7_t = d7.query(\"group == 'Test'\")\n",
    "d7_c = d7.query(\"group == 'Control'\")\n",
    "\n",
    "print('d7_test_conv_mean = ', round(d7_t.price_to_order_conv.mean(),2))\n",
    "print('d7_control_conv_mean = ', round(d7_c.price_to_order_conv.mean(),2))"
   ]
  },
  {
   "cell_type": "code",
   "execution_count": null,
   "id": "08c14d5e",
   "metadata": {},
   "outputs": [],
   "source": []
  },
  {
   "cell_type": "code",
   "execution_count": null,
   "id": "a8f9c22f",
   "metadata": {},
   "outputs": [],
   "source": []
  }
 ],
 "metadata": {
  "kernelspec": {
   "display_name": "Python 3 (ipykernel)",
   "language": "python",
   "name": "python3"
  },
  "language_info": {
   "codemirror_mode": {
    "name": "ipython",
    "version": 3
   },
   "file_extension": ".py",
   "mimetype": "text/x-python",
   "name": "python",
   "nbconvert_exporter": "python",
   "pygments_lexer": "ipython3",
   "version": "3.9.7"
  }
 },
 "nbformat": 4,
 "nbformat_minor": 5
}
